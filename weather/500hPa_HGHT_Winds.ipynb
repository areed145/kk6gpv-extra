{
  "cells": [
    {
      "cell_type": "code",
      "execution_count": 1,
      "metadata": {},
      "outputs": [],
      "source": [
        "%matplotlib inline"
      ]
    },
    {
      "cell_type": "markdown",
      "metadata": {},
      "source": [
        "\n500 hPa Geopotential Heights and Winds\n======================================\n\nClassic 500-hPa plot using NAM analysis file.\n\nThis example uses example data from the NAM anlysis for 12 UTC 31\nOctober 2016 and uses xarray as the main read source with using Cartopy\nfor plotting a CONUS view of the 500-hPa geopotential heights, wind\nspeed, and wind barbs.\n"
      ]
    },
    {
      "cell_type": "markdown",
      "metadata": {},
      "source": [
        "Import the needed modules.\n\n\n"
      ]
    },
    {
      "cell_type": "code",
      "execution_count": 4,
      "metadata": {},
      "outputs": [
        {
          "name": "stdout",
          "output_type": "stream",
          "text": "ng build/lib.macosx-10.15-x86_64-3.7/cartopy/tests/crs\n    copying lib/cartopy/tests/crs/test_robinson.py -> build/lib.macosx-10.15-x86_64-3.7/cartopy/tests/crs\n    copying lib/cartopy/tests/crs/test_mercator.py -> build/lib.macosx-10.15-x86_64-3.7/cartopy/tests/crs\n    copying lib/cartopy/tests/crs/test_rotated_geodetic.py -> build/lib.macosx-10.15-x86_64-3.7/cartopy/tests/crs\n    copying lib/cartopy/tests/crs/test_geostationary.py -> build/lib.macosx-10.15-x86_64-3.7/cartopy/tests/crs\n    copying lib/cartopy/tests/crs/test_rotated_pole.py -> build/lib.macosx-10.15-x86_64-3.7/cartopy/tests/crs\n    copying lib/cartopy/tests/crs/test_sinusoidal.py -> build/lib.macosx-10.15-x86_64-3.7/cartopy/tests/crs\n    copying lib/cartopy/tests/crs/test_nearside_perspective.py -> build/lib.macosx-10.15-x86_64-3.7/cartopy/tests/crs\n    copying lib/cartopy/tests/crs/__init__.py -> build/lib.macosx-10.15-x86_64-3.7/cartopy/tests/crs\n    copying lib/cartopy/tests/crs/test_lambert_conformal.py -> build/lib.macosx-10.15-x86_64-3.7/cartopy/tests/crs\n    copying lib/cartopy/tests/crs/test_lambert_azimuthal_equal_area.py -> build/lib.macosx-10.15-x86_64-3.7/cartopy/tests/crs\n    copying lib/cartopy/tests/crs/test_transverse_mercator.py -> build/lib.macosx-10.15-x86_64-3.7/cartopy/tests/crs\n    copying lib/cartopy/tests/crs/test_albers_equal_area.py -> build/lib.macosx-10.15-x86_64-3.7/cartopy/tests/crs\n    copying lib/cartopy/tests/crs/test_azimuthal_equidistant.py -> build/lib.macosx-10.15-x86_64-3.7/cartopy/tests/crs\n    copying lib/cartopy/tests/crs/test_stereographic.py -> build/lib.macosx-10.15-x86_64-3.7/cartopy/tests/crs\n    creating build/lib.macosx-10.15-x86_64-3.7/cartopy/tests/mpl/baseline_images\n    creating build/lib.macosx-10.15-x86_64-3.7/cartopy/tests/mpl/baseline_images/mpl\n    creating build/lib.macosx-10.15-x86_64-3.7/cartopy/tests/mpl/baseline_images/mpl/test_ticks\n    copying lib/cartopy/tests/mpl/baseline_images/mpl/test_ticks/xyticks_pre_mpl_1.5.png -> build/lib.macosx-10.15-x86_64-3.7/cartopy/tests/mpl/baseline_images/mpl/test_ticks\n    copying lib/cartopy/tests/mpl/baseline_images/mpl/test_ticks/yticks_cylindrical_pre_mpl_1.5.png -> build/lib.macosx-10.15-x86_64-3.7/cartopy/tests/mpl/baseline_images/mpl/test_ticks\n    copying lib/cartopy/tests/mpl/baseline_images/mpl/test_ticks/xticks_no_transform.png -> build/lib.macosx-10.15-x86_64-3.7/cartopy/tests/mpl/baseline_images/mpl/test_ticks\n    copying lib/cartopy/tests/mpl/baseline_images/mpl/test_ticks/yticks_cylindrical.png -> build/lib.macosx-10.15-x86_64-3.7/cartopy/tests/mpl/baseline_images/mpl/test_ticks\n    copying lib/cartopy/tests/mpl/baseline_images/mpl/test_ticks/yticks_no_transform_pre_mpl_1.5.png -> build/lib.macosx-10.15-x86_64-3.7/cartopy/tests/mpl/baseline_images/mpl/test_ticks\n    copying lib/cartopy/tests/mpl/baseline_images/mpl/test_ticks/xyticks.png -> build/lib.macosx-10.15-x86_64-3.7/cartopy/tests/mpl/baseline_images/mpl/test_ticks\n    copying lib/cartopy/tests/mpl/baseline_images/mpl/test_ticks/yticks_no_transform.png -> build/lib.macosx-10.15-x86_64-3.7/cartopy/tests/mpl/baseline_images/mpl/test_ticks\n    copying lib/cartopy/tests/mpl/baseline_images/mpl/test_ticks/xticks_cylindrical_pre_mpl_1.5.png -> build/lib.macosx-10.15-x86_64-3.7/cartopy/tests/mpl/baseline_images/mpl/test_ticks\n    copying lib/cartopy/tests/mpl/baseline_images/mpl/test_ticks/xticks_cylindrical.png -> build/lib.macosx-10.15-x86_64-3.7/cartopy/tests/mpl/baseline_images/mpl/test_ticks\n    creating build/lib.macosx-10.15-x86_64-3.7/cartopy/tests/mpl/baseline_images/mpl/test_images\n    copying lib/cartopy/tests/mpl/baseline_images/mpl/test_images/imshow_natural_earth_ortho.png -> build/lib.macosx-10.15-x86_64-3.7/cartopy/tests/mpl/baseline_images/mpl/test_images\n    copying lib/cartopy/tests/mpl/baseline_images/mpl/test_images/image_nest.png -> build/lib.macosx-10.15-x86_64-3.7/cartopy/tests/mpl/baseline_images/mpl/test_images\n    copying lib/cartopy/tests/mpl/baseline_images/mpl/test_images/image_merge.png -> build/lib.macosx-10.15-x86_64-3.7/cartopy/tests/mpl/baseline_images/mpl/test_images\n    copying lib/cartopy/tests/mpl/baseline_images/mpl/test_images/web_tiles.png -> build/lib.macosx-10.15-x86_64-3.7/cartopy/tests/mpl/baseline_images/mpl/test_images\n    copying lib/cartopy/tests/mpl/baseline_images/mpl/test_images/imshow_regional_projected.png -> build/lib.macosx-10.15-x86_64-3.7/cartopy/tests/mpl/baseline_images/mpl/test_images\n    creating build/lib.macosx-10.15-x86_64-3.7/cartopy/tests/mpl/baseline_images/mpl/test_web_services\n    copying lib/cartopy/tests/mpl/baseline_images/mpl/test_web_services/wms.png -> build/lib.macosx-10.15-x86_64-3.7/cartopy/tests/mpl/baseline_images/mpl/test_web_services\n    copying lib/cartopy/tests/mpl/baseline_images/mpl/test_web_services/wmts.png -> build/lib.macosx-10.15-x86_64-3.7/cartopy/tests/mpl/baseline_images/mpl/test_web_services\n    creating build/lib.macosx-10.15-x86_64-3.7/cartopy/tests/mpl/baseline_images/mpl/test_gridliner\n    copying lib/cartopy/tests/mpl/baseline_images/mpl/test_gridliner/gridliner_labels_pre_mpl_1.5.png -> build/lib.macosx-10.15-x86_64-3.7/cartopy/tests/mpl/baseline_images/mpl/test_gridliner\n    copying lib/cartopy/tests/mpl/baseline_images/mpl/test_gridliner/gridliner_labels.png -> build/lib.macosx-10.15-x86_64-3.7/cartopy/tests/mpl/baseline_images/mpl/test_gridliner\n    copying lib/cartopy/tests/mpl/baseline_images/mpl/test_gridliner/gridliner1.png -> build/lib.macosx-10.15-x86_64-3.7/cartopy/tests/mpl/baseline_images/mpl/test_gridliner\n    copying lib/cartopy/tests/mpl/baseline_images/mpl/test_gridliner/gridliner_labels_1.5.png -> build/lib.macosx-10.15-x86_64-3.7/cartopy/tests/mpl/baseline_images/mpl/test_gridliner\n    creating build/lib.macosx-10.15-x86_64-3.7/cartopy/tests/mpl/baseline_images/mpl/test_img_transform\n    copying lib/cartopy/tests/mpl/baseline_images/mpl/test_img_transform/regrid_image.png -> build/lib.macosx-10.15-x86_64-3.7/cartopy/tests/mpl/baseline_images/mpl/test_img_transform\n    creating build/lib.macosx-10.15-x86_64-3.7/cartopy/tests/mpl/baseline_images/mpl/test_shapely_to_mpl\n    copying lib/cartopy/tests/mpl/baseline_images/mpl/test_shapely_to_mpl/poly_interiors.png -> build/lib.macosx-10.15-x86_64-3.7/cartopy/tests/mpl/baseline_images/mpl/test_shapely_to_mpl\n    copying lib/cartopy/tests/mpl/baseline_images/mpl/test_shapely_to_mpl/contour_with_interiors.png -> build/lib.macosx-10.15-x86_64-3.7/cartopy/tests/mpl/baseline_images/mpl/test_shapely_to_mpl\n    copying lib/cartopy/tests/mpl/baseline_images/mpl/test_shapely_to_mpl/poly_interiors_pre_mpl_1.5.png -> build/lib.macosx-10.15-x86_64-3.7/cartopy/tests/mpl/baseline_images/mpl/test_shapely_to_mpl\n    creating build/lib.macosx-10.15-x86_64-3.7/cartopy/tests/mpl/baseline_images/mpl/test_examples\n    copying lib/cartopy/tests/mpl/baseline_images/mpl/test_examples/global_map.png -> build/lib.macosx-10.15-x86_64-3.7/cartopy/tests/mpl/baseline_images/mpl/test_examples\n    creating build/lib.macosx-10.15-x86_64-3.7/cartopy/tests/mpl/baseline_images/mpl/test_img_tiles2\n    copying lib/cartopy/tests/mpl/baseline_images/mpl/test_img_tiles2/web_tiles.png -> build/lib.macosx-10.15-x86_64-3.7/cartopy/tests/mpl/baseline_images/mpl/test_img_tiles2\n    creating build/lib.macosx-10.15-x86_64-3.7/cartopy/tests/mpl/baseline_images/mpl/test_crs\n    copying lib/cartopy/tests/mpl/baseline_images/mpl/test_crs/lambert_conformal_south.png -> build/lib.macosx-10.15-x86_64-3.7/cartopy/tests/mpl/baseline_images/mpl/test_crs\n    copying lib/cartopy/tests/mpl/baseline_images/mpl/test_crs/mercator_squashed.png -> build/lib.macosx-10.15-x86_64-3.7/cartopy/tests/mpl/baseline_images/mpl/test_crs\n    creating build/lib.macosx-10.15-x86_64-3.7/cartopy/tests/mpl/baseline_images/mpl/test_features\n    copying lib/cartopy/tests/mpl/baseline_images/mpl/test_features/natural_earth_custom.png -> build/lib.macosx-10.15-x86_64-3.7/cartopy/tests/mpl/baseline_images/mpl/test_features\n    copying lib/cartopy/tests/mpl/baseline_images/mpl/test_features/gshhs_coastlines.png -> build/lib.macosx-10.15-x86_64-3.7/cartopy/tests/mpl/baseline_images/mpl/test_features\n    copying lib/cartopy/tests/mpl/baseline_images/mpl/test_features/wfs.png -> build/lib.macosx-10.15-x86_64-3.7/cartopy/tests/mpl/baseline_images/mpl/test_features\n    copying lib/cartopy/tests/mpl/baseline_images/mpl/test_features/natural_earth.png -> build/lib.macosx-10.15-x86_64-3.7/cartopy/tests/mpl/baseline_images/mpl/test_features\n    creating build/lib.macosx-10.15-x86_64-3.7/cartopy/tests/mpl/baseline_images/mpl/test_mpl_integration\n    copying lib/cartopy/tests/mpl/baseline_images/mpl/test_mpl_integration/pcolormesh_goode_wrap.png -> build/lib.macosx-10.15-x86_64-3.7/cartopy/tests/mpl/baseline_images/mpl/test_mpl_integration\n    copying lib/cartopy/tests/mpl/baseline_images/mpl/test_mpl_integration/quiver_rotated_pole.png -> build/lib.macosx-10.15-x86_64-3.7/cartopy/tests/mpl/baseline_images/mpl/test_mpl_integration\n    copying lib/cartopy/tests/mpl/baseline_images/mpl/test_mpl_integration/quiver_plate_carree.png -> build/lib.macosx-10.15-x86_64-3.7/cartopy/tests/mpl/baseline_images/mpl/test_mpl_integration\n    copying lib/cartopy/tests/mpl/baseline_images/mpl/test_mpl_integration/natural_earth_interface.png -> build/lib.macosx-10.15-x86_64-3.7/cartopy/tests/mpl/baseline_images/mpl/test_mpl_integration\n    copying lib/cartopy/tests/mpl/baseline_images/mpl/test_mpl_integration/multiple_projections1.png -> build/lib.macosx-10.15-x86_64-3.7/cartopy/tests/mpl/baseline_images/mpl/test_mpl_integration\n    copying lib/cartopy/tests/mpl/baseline_images/mpl/test_mpl_integration/streamplot_mpl_1.4.3.png -> build/lib.macosx-10.15-x86_64-3.7/cartopy/tests/mpl/baseline_images/mpl/test_mpl_integration\n    copying lib/cartopy/tests/mpl/baseline_images/mpl/test_mpl_integration/barbs_1d.png -> build/lib.macosx-10.15-x86_64-3.7/cartopy/tests/mpl/baseline_images/mpl/test_mpl_integration\n    copying lib/cartopy/tests/mpl/baseline_images/mpl/test_mpl_integration/barbs_1d_transformed.png -> build/lib.macosx-10.15-x86_64-3.7/cartopy/tests/mpl/baseline_images/mpl/test_mpl_integration\n    copying lib/cartopy/tests/mpl/baseline_images/mpl/test_mpl_integration/pcolormesh_global_wrap1.png -> build/lib.macosx-10.15-x86_64-3.7/cartopy/tests/mpl/baseline_images/mpl/test_mpl_integration\n    copying lib/cartopy/tests/mpl/baseline_images/mpl/test_mpl_integration/pcolormesh_global_wrap2.png -> build/lib.macosx-10.15-x86_64-3.7/cartopy/tests/mpl/baseline_images/mpl/test_mpl_integration\n    copying lib/cartopy/tests/mpl/baseline_images/mpl/test_mpl_integration/pcolormesh_global_wrap3.png -> build/lib.macosx-10.15-x86_64-3.7/cartopy/tests/mpl/baseline_images/mpl/test_mpl_integration\n    copying lib/cartopy/tests/mpl/baseline_images/mpl/test_mpl_integration/barbs_plate_carree.png -> build/lib.macosx-10.15-x86_64-3.7/cartopy/tests/mpl/baseline_images/mpl/test_mpl_integration\n    copying lib/cartopy/tests/mpl/baseline_images/mpl/test_mpl_integration/global_contour_wrap.png -> build/lib.macosx-10.15-x86_64-3.7/cartopy/tests/mpl/baseline_images/mpl/test_mpl_integration\n    copying lib/cartopy/tests/mpl/baseline_images/mpl/test_mpl_integration/pcolormesh_limited_area_wrap.png -> build/lib.macosx-10.15-x86_64-3.7/cartopy/tests/mpl/baseline_images/mpl/test_mpl_integration\n    copying lib/cartopy/tests/mpl/baseline_images/mpl/test_mpl_integration/pcolormesh_single_column_wrap.png -> build/lib.macosx-10.15-x86_64-3.7/cartopy/tests/mpl/baseline_images/mpl/test_mpl_integration\n    copying lib/cartopy/tests/mpl/baseline_images/mpl/test_mpl_integration/barbs_regrid.png -> build/lib.macosx-10.15-x86_64-3.7/cartopy/tests/mpl/baseline_images/mpl/test_mpl_integration\n    copying lib/cartopy/tests/mpl/baseline_images/mpl/test_mpl_integration/quiver_regrid_with_extent.png -> build/lib.macosx-10.15-x86_64-3.7/cartopy/tests/mpl/baseline_images/mpl/test_mpl_integration\n    copying lib/cartopy/tests/mpl/baseline_images/mpl/test_mpl_integration/pcolormesh_mercator_wrap.png -> build/lib.macosx-10.15-x86_64-3.7/cartopy/tests/mpl/baseline_images/mpl/test_mpl_integration\n    copying lib/cartopy/tests/mpl/baseline_images/mpl/test_mpl_integration/global_pcolor_wrap_pre_mpl_1.4.3.png -> build/lib.macosx-10.15-x86_64-3.7/cartopy/tests/mpl/baseline_images/mpl/test_mpl_integration\n    copying lib/cartopy/tests/mpl/baseline_images/mpl/test_mpl_integration/global_map.png -> build/lib.macosx-10.15-x86_64-3.7/cartopy/tests/mpl/baseline_images/mpl/test_mpl_integration\n    copying lib/cartopy/tests/mpl/baseline_images/mpl/test_mpl_integration/streamplot_mpl_2.png -> build/lib.macosx-10.15-x86_64-3.7/cartopy/tests/mpl/baseline_images/mpl/test_mpl_integration\n    copying lib/cartopy/tests/mpl/baseline_images/mpl/test_mpl_integration/global_scatter_wrap.png -> build/lib.macosx-10.15-x86_64-3.7/cartopy/tests/mpl/baseline_images/mpl/test_mpl_integration\n    copying lib/cartopy/tests/mpl/baseline_images/mpl/test_mpl_integration/streamplot_pre_mpl_1.4.3.png -> build/lib.macosx-10.15-x86_64-3.7/cartopy/tests/mpl/baseline_images/mpl/test_mpl_integration\n    copying lib/cartopy/tests/mpl/baseline_images/mpl/test_mpl_integration/streamplot.png -> build/lib.macosx-10.15-x86_64-3.7/cartopy/tests/mpl/baseline_images/mpl/test_mpl_integration\n    copying lib/cartopy/tests/mpl/baseline_images/mpl/test_mpl_integration/global_contourf_wrap.png -> build/lib.macosx-10.15-x86_64-3.7/cartopy/tests/mpl/baseline_images/mpl/test_mpl_integration\n    copying lib/cartopy/tests/mpl/baseline_images/mpl/test_mpl_integration/quiver_regrid.png -> build/lib.macosx-10.15-x86_64-3.7/cartopy/tests/mpl/baseline_images/mpl/test_mpl_integration\n    copying lib/cartopy/tests/mpl/baseline_images/mpl/test_mpl_integration/global_pcolor_wrap.png -> build/lib.macosx-10.15-x86_64-3.7/cartopy/tests/mpl/baseline_images/mpl/test_mpl_integration\n    copying lib/cartopy/tests/mpl/baseline_images/mpl/test_mpl_integration/simple_global.png -> build/lib.macosx-10.15-x86_64-3.7/cartopy/tests/mpl/baseline_images/mpl/test_mpl_integration\n    copying lib/cartopy/tests/mpl/baseline_images/mpl/test_mpl_integration/barbs_regrid_with_extent.png -> build/lib.macosx-10.15-x86_64-3.7/cartopy/tests/mpl/baseline_images/mpl/test_mpl_integration\n    creating build/lib.macosx-10.15-x86_64-3.7/cartopy/data\n    creating build/lib.macosx-10.15-x86_64-3.7/cartopy/data/raster\n    creating build/lib.macosx-10.15-x86_64-3.7/cartopy/data/raster/natural_earth\n    copying lib/cartopy/data/raster/natural_earth/images.json -> build/lib.macosx-10.15-x86_64-3.7/cartopy/data/raster/natural_earth\n    copying lib/cartopy/data/raster/natural_earth/50-natural-earth-1-downsampled.png -> build/lib.macosx-10.15-x86_64-3.7/cartopy/data/raster/natural_earth\n    creating build/lib.macosx-10.15-x86_64-3.7/cartopy/data/raster/sample\n\n    copying lib/cartopy/data/raster/sample/Miriam.A2012270.2050.2km.README.txt -> build/lib.macosx-10.15-x86_64-3.7/cartopy/data/raster/sample\n    creating build/lib.macosx-10.15-x86_64-3.7/cartopy/data/netcdf\n    copying lib/cartopy/data/netcdf/HadISST1_SST_update.README.txt -> build/lib.macosx-10.15-x86_64-3.7/cartopy/data/netcdf\n    copying lib/cartopy/data/netcdf/HadISST1_SST_update.nc -> build/lib.macosx-10.15-x86_64-3.7/cartopy/data/netcdf\n    creating build/lib.macosx-10.15-x86_64-3.7/cartopy/data/shapefiles\n    creating build/lib.macosx-10.15-x86_64-3.7/cartopy/data/shapefiles/gshhs\n    copying lib/cartopy/data/shapefiles/gshhs/README.TXT -> build/lib.macosx-10.15-x86_64-3.7/cartopy/data/shapefiles/gshhs\n    creating build/lib.macosx-10.15-x86_64-3.7/cartopy/data/shapefiles/gshhs/c\n    copying lib/cartopy/data/shapefiles/gshhs/c/GSHHS_c_L1.dbf -> build/lib.macosx-10.15-x86_64-3.7/cartopy/data/shapefiles/gshhs/c\n    copying lib/cartopy/data/shapefiles/gshhs/c/GSHHS_c_L1.shx -> build/lib.macosx-10.15-x86_64-3.7/cartopy/data/shapefiles/gshhs/c\n    copying lib/cartopy/data/shapefiles/gshhs/c/GSHHS_c_L1.shp -> build/lib.macosx-10.15-x86_64-3.7/cartopy/data/shapefiles/gshhs/c\n    creating build/lib.macosx-10.15-x86_64-3.7/cartopy/data/shapefiles/gshhs/l\n    copying lib/cartopy/data/shapefiles/gshhs/l/GSHHS_l_L2.dbf -> build/lib.macosx-10.15-x86_64-3.7/cartopy/data/shapefiles/gshhs/l\n    copying lib/cartopy/data/shapefiles/gshhs/l/GSHHS_l_L2.shp -> build/lib.macosx-10.15-x86_64-3.7/cartopy/data/shapefiles/gshhs/l\n    copying lib/cartopy/data/shapefiles/gshhs/l/GSHHS_l_L2.shx -> build/lib.macosx-10.15-x86_64-3.7/cartopy/data/shapefiles/gshhs/l\n    copying lib/cartopy/io/srtm.npz -> build/lib.macosx-10.15-x86_64-3.7/cartopy/io\n    UPDATING build/lib.macosx-10.15-x86_64-3.7/cartopy/_version.py\n    set build/lib.macosx-10.15-x86_64-3.7/cartopy/_version.py to '0.16.0'\n    running build_ext\n    skipping 'lib/cartopy/trace.cpp' Cython extension (up-to-date)\n    building 'cartopy.trace' extension\n    creating build/temp.macosx-10.15-x86_64-3.7\n    creating build/temp.macosx-10.15-x86_64-3.7/lib\n    creating build/temp.macosx-10.15-x86_64-3.7/lib/cartopy\n    Compiling with an SDK that doesn't seem to exist: /Applications/Xcode.app/Contents/Developer/Platforms/MacOSX.platform/Developer/SDKs/MacOSX10.15.sdk\n    Please check your Xcode installation\n    x86_64-apple-darwin13.4.0-clang -Wno-unused-result -Wsign-compare -Wunreachable-code -fno-common -dynamic -DNDEBUG -g -fwrapv -O3 -Wall -isysroot /Applications/Xcode.app/Contents/Developer/Platforms/MacOSX.platform/Developer/SDKs/MacOSX10.15.sdk -I/Applications/Xcode.app/Contents/Developer/Platforms/MacOSX.platform/Developer/SDKs/MacOSX10.15.sdk/usr/include -I/Applications/Xcode.app/Contents/Developer/Platforms/MacOSX.platform/Developer/SDKs/MacOSX10.15.sdk/System/Library/Frameworks/Tk.framework/Versions/8.5/Headers -march=core2 -mtune=haswell -mssse3 -ftree-vectorize -fPIC -fPIE -fstack-protector-strong -O2 -pipe -D_FORTIFY_SOURCE=2 -mmacosx-version-min=10.9 -I/usr/local/opt/python/Frameworks/Python.framework/Versions/3.7/include -I./lib/cartopy -I/Users/areed145/anaconda3/include -I/usr/local/include -I/usr/local/opt/openssl@1.1/include -I/usr/local/opt/sqlite/include -I/Users/areed145/Library/Mobile Documents/com~apple~CloudDocs/vcscode/kk6gpv-flask/.venv/include -I/usr/local/Cellar/python/3.7.5/Frameworks/Python.framework/Versions/3.7/include/python3.7m -c lib/cartopy/trace.cpp -o build/temp.macosx-10.15-x86_64-3.7/lib/cartopy/trace.o\n    clang-4.0: warning: no such sysroot directory: '/Applications/Xcode.app/Contents/Developer/Platforms/MacOSX.platform/Developer/SDKs/MacOSX10.15.sdk' [-Wmissing-sysroot]\n    In file included from lib/cartopy/trace.cpp:4:\n    In file included from /usr/local/Cellar/python/3.7.5/Frameworks/Python.framework/Versions/3.7/include/python3.7m/Python.h:25:\n    /Users/areed145/anaconda3/bin/../include/c++/v1/stdio.h:108:15: fatal error: 'stdio.h' file not found\n    #include_next <stdio.h>\n                  ^~~~~~~~~\n    1 error generated.\n    error: command 'x86_64-apple-darwin13.4.0-clang' failed with exit status 1\n    ----------------------------------------\u001b[0m\n\u001b[?25h\u001b[31mERROR: Command errored out with exit status 1: '/Users/areed145/Library/Mobile Documents/com~apple~CloudDocs/vcscode/kk6gpv-flask/.venv/bin/python3' -u -c 'import sys, setuptools, tokenize; sys.argv[0] = '\"'\"'/private/var/folders/73/z6xw6tw13wqbz490ql9zt0040000gn/T/pip-install-5jv6zj16/Cartopy/setup.py'\"'\"'; __file__='\"'\"'/private/var/folders/73/z6xw6tw13wqbz490ql9zt0040000gn/T/pip-install-5jv6zj16/Cartopy/setup.py'\"'\"';f=getattr(tokenize, '\"'\"'open'\"'\"', open)(__file__);code=f.read().replace('\"'\"'\\r\\n'\"'\"', '\"'\"'\\n'\"'\"');f.close();exec(compile(code, __file__, '\"'\"'exec'\"'\"'))' install --record /private/var/folders/73/z6xw6tw13wqbz490ql9zt0040000gn/T/pip-record-qsx15qy_/install-record.txt --single-version-externally-managed --compile --install-headers '/Users/areed145/Library/Mobile Documents/com~apple~CloudDocs/vcscode/kk6gpv-flask/.venv/include/site/python3.7/Cartopy' Check the logs for full command output.\u001b[0m\n"
        }
      ],
      "source": [
        "!'/Users/areed145/Library/Mobile Documents/com~apple~CloudDocs/vcscode/kk6gpv-flask/.venv/bin/pip' install git+https://github.com/snowman2/cartopy.git@5e624fe"
      ]
    },
    {
      "cell_type": "code",
      "execution_count": 3,
      "metadata": {},
      "outputs": [
        {
          "ename": "ModuleNotFoundError",
          "evalue": "No module named 'cartopy'",
          "output_type": "error",
          "traceback": [
            "\u001b[0;31m---------------------------------------------------------------------------\u001b[0m",
            "\u001b[0;31mModuleNotFoundError\u001b[0m                       Traceback (most recent call last)",
            "\u001b[0;32m<ipython-input-3-313f2d808e2b>\u001b[0m in \u001b[0;36m<module>\u001b[0;34m\u001b[0m\n\u001b[1;32m      1\u001b[0m \u001b[0;32mfrom\u001b[0m \u001b[0mdatetime\u001b[0m \u001b[0;32mimport\u001b[0m \u001b[0mdatetime\u001b[0m\u001b[0;34m\u001b[0m\u001b[0;34m\u001b[0m\u001b[0m\n\u001b[1;32m      2\u001b[0m \u001b[0;34m\u001b[0m\u001b[0m\n\u001b[0;32m----> 3\u001b[0;31m \u001b[0;32mimport\u001b[0m \u001b[0mcartopy\u001b[0m\u001b[0;34m.\u001b[0m\u001b[0mcrs\u001b[0m \u001b[0;32mas\u001b[0m \u001b[0mccrs\u001b[0m\u001b[0;34m\u001b[0m\u001b[0;34m\u001b[0m\u001b[0m\n\u001b[0m\u001b[1;32m      4\u001b[0m \u001b[0;32mimport\u001b[0m \u001b[0mcartopy\u001b[0m\u001b[0;34m.\u001b[0m\u001b[0mfeature\u001b[0m \u001b[0;32mas\u001b[0m \u001b[0mcfeature\u001b[0m\u001b[0;34m\u001b[0m\u001b[0;34m\u001b[0m\u001b[0m\n\u001b[1;32m      5\u001b[0m \u001b[0;32mimport\u001b[0m \u001b[0mmatplotlib\u001b[0m\u001b[0;34m.\u001b[0m\u001b[0mpyplot\u001b[0m \u001b[0;32mas\u001b[0m \u001b[0mplt\u001b[0m\u001b[0;34m\u001b[0m\u001b[0;34m\u001b[0m\u001b[0m\n",
            "\u001b[0;31mModuleNotFoundError\u001b[0m: No module named 'cartopy'"
          ]
        }
      ],
      "source": [
        "from datetime import datetime\n",
        "\n",
        "import cartopy.crs as ccrs\n",
        "import cartopy.feature as cfeature\n",
        "import matplotlib.pyplot as plt\n",
        "import metpy.calc as mpcalc\n",
        "from metpy.units import units\n",
        "import numpy as np\n",
        "from scipy.ndimage import gaussian_filter\n",
        "import xarray as xr"
      ]
    },
    {
      "cell_type": "markdown",
      "metadata": {},
      "source": [
        "The following code reads the example data using the xarray open_dataset\n",
        "function and prints the coordinate values that are associated with the\n",
        "various variables contained within the file.\n",
        "\n",
        "\n"
      ]
    },
    {
      "cell_type": "code",
      "execution_count": null,
      "metadata": {
        "collapsed": false
      },
      "outputs": [],
      "source": [
        "ds = xr.open_dataset('https://thredds.ucar.edu/thredds/dodsC/casestudies/'\n",
        "                     'python-gallery/NAM_20161031_1200.nc')\n",
        "ds.coords"
      ]
    },
    {
      "cell_type": "markdown",
      "metadata": {},
      "source": [
        "Data Retrieval\n--------------\n\nThis code retrieves the necessary data from the file and completes some\nsmoothing of the geopotential height and wind fields using the SciPy\nfunction gaussian_filter. A nicely formated valid time (vtime) variable\nis also created.\n\n\n"
      ]
    },
    {
      "cell_type": "code",
      "execution_count": null,
      "metadata": {
        "collapsed": false
      },
      "outputs": [],
      "source": [
        "# Grab lat/lon values (NAM will be 2D)\n",
        "lats = ds.lat.data\n",
        "lons = ds.lon.data\n",
        "\n",
        "# Select and grab data\n",
        "hght = ds['Geopotential_height_isobaric']\n",
        "uwnd = ds['u-component_of_wind_isobaric']\n",
        "vwnd = ds['v-component_of_wind_isobaric']\n",
        "\n",
        "# Select and grab 500-hPa geopotential heights and wind components, smooth with gaussian_filter\n",
        "hght_500 = gaussian_filter(hght.sel(isobaric=500).data[0], sigma=3.0)\n",
        "uwnd_500 = gaussian_filter(uwnd.sel(isobaric=500).data[0], sigma=3.0) * units('m/s')\n",
        "vwnd_500 = gaussian_filter(vwnd.sel(isobaric=500).data[0], sigma=3.0) * units('m/s')\n",
        "\n",
        "# Use MetPy to calculate the wind speed for colorfill plot, change units to knots from m/s\n",
        "sped_500 = mpcalc.wind_speed(uwnd_500, vwnd_500).to('kt')\n",
        "\n",
        "# Create a clean datetime object for plotting based on time of Geopotential heights\n",
        "vtime = datetime.strptime(str(ds.time.data[0].astype('datetime64[ms]')),\n",
        "                          '%Y-%m-%dT%H:%M:%S.%f')"
      ]
    },
    {
      "cell_type": "markdown",
      "metadata": {},
      "source": [
        "Map Creation\n------------\n\nThis next set of code creates the plot and draws contours on a Lambert\nConformal map centered on -100 E longitude. The main view is over the\nCONUS with geopotential heights contoured every 60 m and wind speed in\nknots every 20 knots starting at 30 kt.\n\n\n"
      ]
    },
    {
      "cell_type": "code",
      "execution_count": null,
      "metadata": {
        "collapsed": false
      },
      "outputs": [],
      "source": [
        "# Set up the projection that will be used for plotting\n",
        "mapcrs = ccrs.LambertConformal(central_longitude=-100,\n",
        "                               central_latitude=35,\n",
        "                               standard_parallels=(30, 60))\n",
        "\n",
        "# Set up the projection of the data; if lat/lon then PlateCarree is what you want\n",
        "datacrs = ccrs.PlateCarree()\n",
        "\n",
        "# Start the figure and create plot axes with proper projection\n",
        "fig = plt.figure(1, figsize=(14, 12))\n",
        "ax = plt.subplot(111, projection=mapcrs)\n",
        "ax.set_extent([-130, -72, 20, 55], ccrs.PlateCarree())\n",
        "\n",
        "# Add geopolitical boundaries for map reference\n",
        "ax.add_feature(cfeature.COASTLINE.with_scale('50m'))\n",
        "ax.add_feature(cfeature.STATES.with_scale('50m'))\n",
        "\n",
        "# Plot 500-hPa Colorfill Wind Speeds in knots\n",
        "clevs_500_sped = np.arange(30, 150, 20)\n",
        "cf = ax.contourf(lons, lats, sped_500, clevs_500_sped, cmap=plt.cm.BuPu,\n",
        "                 transform=datacrs)\n",
        "plt.colorbar(cf, orientation='horizontal', pad=0, aspect=50)\n",
        "\n",
        "# Plot 500-hPa Geopotential Heights in meters\n",
        "clevs_500_hght = np.arange(0, 8000, 60)\n",
        "cs = ax.contour(lons, lats, hght_500, clevs_500_hght, colors='black',\n",
        "                transform=datacrs)\n",
        "plt.clabel(cs, fmt='%d')\n",
        "\n",
        "# Plot 500-hPa wind barbs in knots, regrid to reduce number of barbs\n",
        "ax.barbs(lons, lats, uwnd_500.to('kt').m, vwnd_500.to('kt').m, pivot='middle',\n",
        "         color='black', regrid_shape=20, transform=datacrs)\n",
        "\n",
        "# Make some nice titles for the plot (one right, one left)\n",
        "plt.title('500-hPa NAM Geopotential Heights (m), Wind Speed (kt),'\n",
        "          ' and Wind Barbs (kt)', loc='left')\n",
        "plt.title('Valid Time: {}'.format(vtime), loc='right')\n",
        "\n",
        "# Adjust image and show\n",
        "plt.subplots_adjust(bottom=0, top=1)\n",
        "plt.show()"
      ]
    }
  ],
  "metadata": {
    "kernelspec": {
      "display_name": "Python 3",
      "language": "python",
      "name": "python3"
    },
    "language_info": {
      "codemirror_mode": {
        "name": "ipython",
        "version": 3
      },
      "file_extension": ".py",
      "mimetype": "text/x-python",
      "name": "python",
      "nbconvert_exporter": "python",
      "pygments_lexer": "ipython3",
      "version": "3.7.3"
    }
  },
  "nbformat": 4,
  "nbformat_minor": 0
}